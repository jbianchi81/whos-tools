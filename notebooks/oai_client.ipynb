{
 "cells": [
  {
   "cell_type": "code",
   "execution_count": 1,
   "metadata": {},
   "outputs": [],
   "source": [
    "from lxml import etree\n",
    "import requests\n",
    "import shutil\n",
    "import os"
   ]
  },
  {
   "cell_type": "code",
   "execution_count": 2,
   "metadata": {},
   "outputs": [],
   "source": [
    "endpoint = \"https://whos.geodab.eu/gs-service/services/essi/token/my_token/view/whos-plata/oaipmh\"\n",
    "metadata_prefix = \"WIGOS-1.0RC6\""
   ]
  },
  {
   "cell_type": "markdown",
   "metadata": {},
   "source": [
    "### list metadata formats"
   ]
  },
  {
   "cell_type": "code",
   "execution_count": 3,
   "metadata": {},
   "outputs": [],
   "source": [
    "def getFormats(endpoint=\"https://whos.geodab.eu/gs-service/services/essi/token/my_token/view/whos-plata/oaipmh\",output_file=\"metadataFormats.xml\"):\n",
    "    response = requests.get(endpoint,params={\"verb\":\"ListMetadataFormats\"})\n",
    "    f = open(output_file,\"w\")\n",
    "    f.write(response.text)\n",
    "    f.close()\n",
    "    tree = etree.parse(output_file)\n",
    "    root = tree.getroot()\n",
    "    list_metadata_formats = root.find(\"{http://www.openarchives.org/OAI/2.0/}ListMetadataFormats\")\n",
    "    prefixes = []\n",
    "    for metadata_format in list_metadata_formats.iter(\"{http://www.openarchives.org/OAI/2.0/}metadataFormat\"):\n",
    "        prefix = metadata_format.find(\"{http://www.openarchives.org/OAI/2.0/}metadataPrefix\")\n",
    "        prefixes.append(prefix.text)\n",
    "    return prefixes"
   ]
  },
  {
   "cell_type": "code",
   "execution_count": 4,
   "metadata": {},
   "outputs": [],
   "source": [
    "prefixes = getFormats()"
   ]
  },
  {
   "cell_type": "markdown",
   "metadata": {},
   "source": [
    "### list identifiers"
   ]
  },
  {
   "cell_type": "code",
   "execution_count": 5,
   "metadata": {},
   "outputs": [],
   "source": [
    "def getIdentifiers(endpoint=\"https://whos.geodab.eu/gs-service/services/essi/token/my_token/view/whos-plata/oaipmh\",metadata_prefix=\"WIGOS-1.0RC6\",output_file=\"identifiers.xml\"):\n",
    "    response = requests.get(endpoint,params={\"verb\":\"ListIdentifiers\",\"metadataPrefix\":metadata_prefix})\n",
    "    f = open(output_file,\"w\")\n",
    "    f.write(response.text)\n",
    "    f.close()\n",
    "    tree = etree.parse(output_file)\n",
    "    root = tree.getroot()\n",
    "    root.tag\n",
    "    list_identifiers = root.find(\"{http://www.openarchives.org/OAI/2.0/}ListIdentifiers\")\n",
    "    identifiers = []\n",
    "    for header in list_identifiers.iter(\"{http://www.openarchives.org/OAI/2.0/}header\"):\n",
    "        identifiers.append({\n",
    "            \"identifier\": header.find(\"{http://www.openarchives.org/OAI/2.0/}identifier\").text,\n",
    "            \"datestamp\" : header.find(\"{http://www.openarchives.org/OAI/2.0/}datestamp\").text,\n",
    "            \"setSpec\" : header.find(\"{http://www.openarchives.org/OAI/2.0/}setSpec\").text\n",
    "        })\n",
    "    resumption_token = list_identifiers.find(\"{http://www.openarchives.org/OAI/2.0/}resumptionToken\").text\n",
    "    return identifiers, resumption_token\n"
   ]
  },
  {
   "cell_type": "code",
   "execution_count": 6,
   "metadata": {},
   "outputs": [],
   "source": [
    "identifiers, resumption_token = getIdentifiers()"
   ]
  },
  {
   "cell_type": "markdown",
   "metadata": {},
   "source": [
    "### resume identifiers download"
   ]
  },
  {
   "cell_type": "code",
   "execution_count": 7,
   "metadata": {},
   "outputs": [],
   "source": [
    "def resumeGetIdentifiers(resumption_token,endpoint=\"https://whos.geodab.eu/gs-service/services/essi/token/my_token/view/whos-plata/oaipmh\",output_file=\"identifiers.xml\"):\n",
    "    response = requests.get(endpoint,params={\"verb\":\"ListIdentifiers\",\"resumptionToken\":resumption_token})\n",
    "    f = open(output_file,\"w\")\n",
    "    f.write(response.text)\n",
    "    f.close()\n",
    "    tree = etree.parse(output_file)\n",
    "    root = tree.getroot()\n",
    "    list_identifiers = root.find(\"{http://www.openarchives.org/OAI/2.0/}ListIdentifiers\")\n",
    "    identifiers = []\n",
    "    for header in list_identifiers.iter(\"{http://www.openarchives.org/OAI/2.0/}header\"):\n",
    "        identifiers.append({\n",
    "            \"identifier\": header.find(\"{http://www.openarchives.org/OAI/2.0/}identifier\").text,\n",
    "            \"datestamp\" : header.find(\"{http://www.openarchives.org/OAI/2.0/}datestamp\").text,\n",
    "            \"setSpec\" : header.find(\"{http://www.openarchives.org/OAI/2.0/}setSpec\").text\n",
    "        })\n",
    "    resumption_token = list_identifiers.find(\"{http://www.openarchives.org/OAI/2.0/}resumptionToken\").text\n",
    "    return identifiers, resumption_token"
   ]
  },
  {
   "cell_type": "code",
   "execution_count": 8,
   "metadata": {},
   "outputs": [],
   "source": [
    "more_identifiers = resumeGetIdentifiers(resumption_token)"
   ]
  },
  {
   "cell_type": "markdown",
   "metadata": {},
   "source": [
    "### list records (optionally filtered by set_spec)"
   ]
  },
  {
   "cell_type": "code",
   "execution_count": 9,
   "metadata": {},
   "outputs": [],
   "source": [
    "def getRecords(endpoint=\"https://whos.geodab.eu/gs-service/services/essi/token/my_token/view/whos-plata/oaipmh\",metadata_prefix=\"WIGOS-1.0RC6\",output_file=\"records.xml\",set_spec=None):\n",
    "    params={\"verb\":\"ListRecords\",\"metadataPrefix\":metadata_prefix}\n",
    "    if set_spec is not None:\n",
    "        params[\"set\"] = set_spec\n",
    "    response = requests.get(endpoint,params=params)\n",
    "    f = open(output_file,\"w\")\n",
    "    f.write(response.text)\n",
    "    f.close()\n",
    "    tree = etree.parse(output_file)\n",
    "    root = tree.getroot()\n",
    "    root.tag\n",
    "    list_records = root.find(\"{http://www.openarchives.org/OAI/2.0/}ListRecords\")\n",
    "    records = []\n",
    "    for record in list_records.iter(\"{http://www.openarchives.org/OAI/2.0/}record\"):\n",
    "        identifier = record.find(\"{http://www.openarchives.org/OAI/2.0/}header/{http://www.openarchives.org/OAI/2.0/}identifier\").text\n",
    "        records.append({\n",
    "            \"identifier\": identifier,\n",
    "            \"metadata\" : record.find(\"{http://www.openarchives.org/OAI/2.0/}metadata/{http://def.wmo.int/wmdr/2017}WIGOSMetadataRecord\")\n",
    "        })\n",
    "    resumption_token = list_records.find(\"{http://www.openarchives.org/OAI/2.0/}resumptionToken\").text\n",
    "    completeListSize = int(list_records.find(\"{http://www.openarchives.org/OAI/2.0/}resumptionToken\").attrib[\"completeListSize\"])\n",
    "    cursor = int(list_records.find(\"{http://www.openarchives.org/OAI/2.0/}resumptionToken\").attrib[\"cursor\"])\n",
    "    return records, resumption_token, completeListSize, cursor"
   ]
  },
  {
   "cell_type": "code",
   "execution_count": 10,
   "metadata": {},
   "outputs": [],
   "source": [
    "set_spec = \"argentina-ina\"\n",
    "records, resumption_token, completeListSize, cursor = getRecords(set_spec=set_spec)"
   ]
  },
  {
   "cell_type": "markdown",
   "metadata": {},
   "source": [
    "### resume list records, download iteratively"
   ]
  },
  {
   "cell_type": "code",
   "execution_count": 11,
   "metadata": {},
   "outputs": [],
   "source": [
    "\n",
    "def getRecordsNextPage(resumption_token,endpoint=\"https://whos.geodab.eu/gs-service/services/essi/token/my_token/view/whos-plata/oaipmh\",output_file=\"records.xml\",output_dir=\"wigos_records\"):\n",
    "    response = requests.get(endpoint,params={\"verb\":\"ListRecords\",\"resumptionToken\":resumption_token})\n",
    "    f = open(output_file,\"w\")\n",
    "    f.write(response.text)\n",
    "    f.close()\n",
    "    tree = etree.parse(output_file)\n",
    "    root = tree.getroot()\n",
    "    root.tag\n",
    "    list_records = root.find(\"{http://www.openarchives.org/OAI/2.0/}ListRecords\")\n",
    "    cursor = int(list_records.find(\"{http://www.openarchives.org/OAI/2.0/}resumptionToken\").attrib[\"cursor\"])\n",
    "    filename =\"%s/records_%i.xml\" % (output_dir,cursor)\n",
    "    if not os.path.exists(output_dir):\n",
    "        os.mkdir(output_dir)\n",
    "    shutil.copyfile(output_file,filename)\n",
    "    records = []\n",
    "    for record in list_records.iter(\"{http://www.openarchives.org/OAI/2.0/}record\"):\n",
    "        identifier = record.find(\"{http://www.openarchives.org/OAI/2.0/}header/{http://www.openarchives.org/OAI/2.0/}identifier\").text\n",
    "        records.append({\n",
    "            \"identifier\": identifier,\n",
    "            \"metadata\" : record.find(\"{http://www.openarchives.org/OAI/2.0/}metadata/{http://def.wmo.int/wmdr/2017}WIGOSMetadataRecord\")\n",
    "        })\n",
    "    new_token = list_records.find(\"{http://www.openarchives.org/OAI/2.0/}resumptionToken\").text\n",
    "    return records, cursor, new_token"
   ]
  },
  {
   "cell_type": "code",
   "execution_count": 12,
   "metadata": {},
   "outputs": [],
   "source": [
    "more_records, cursor, new_token = getRecordsNextPage(resumption_token)"
   ]
  },
  {
   "cell_type": "code",
   "execution_count": 13,
   "metadata": {},
   "outputs": [],
   "source": [
    "more_records, cursor, new_token = getRecordsNextPage(new_token)"
   ]
  },
  {
   "cell_type": "code",
   "execution_count": 21,
   "metadata": {},
   "outputs": [],
   "source": [
    "def getRecordsAllPages(endpoint=\"https://whos.geodab.eu/gs-service/services/essi/token/my_token/view/whos-plata/oaipmh\",max_pages=500,metadata_prefix=\"WIGOS-1.0RC6\",output_file=\"records.xml\",set_spec=None,output_dir=\"wigos_records\"):\n",
    "    records, resumption_token, completeListSize, cursor = getRecords(endpoint=endpoint,metadata_prefix=metadata_prefix,output_file=output_file,set_spec=set_spec)\n",
    "    page = 0\n",
    "    while cursor < completeListSize and page < max_pages:\n",
    "        page = page + 1\n",
    "        more_records, cursor, resumption_token = getRecordsNextPage(resumption_token,endpoint=endpoint,output_file=output_file,output_dir=output_dir)\n",
    "        records.extend(more_records)\n",
    "    return records"
   ]
  },
  {
   "cell_type": "code",
   "execution_count": 22,
   "metadata": {},
   "outputs": [],
   "source": [
    "records = getRecordsAllPages(set_spec=\"argentina-ina\", max_pages=5)"
   ]
  },
  {
   "cell_type": "code",
   "execution_count": 23,
   "metadata": {},
   "outputs": [],
   "source": [
    "def saveRecord(record):\n",
    "    record[\"metadata\"].attrib[\"{http://www.w3.org/2001/XMLSchema-instance}schemaLocation\"] = \"http://def.wmo.int/wmdr/2017 http://schemas.wmo.int/wmdr/1.0RC9/wmdr.xsd\"\n",
    "    et = etree.ElementTree(record[\"metadata\"])\n",
    "    filename = \"%s/%s.xml\" % (\"wigos_records/\", record[\"identifier\"])\n",
    "    et.write(filename, pretty_print=True)"
   ]
  },
  {
   "cell_type": "code",
   "execution_count": 24,
   "metadata": {},
   "outputs": [],
   "source": [
    "for record in records:\n",
    "    saveRecord(record)"
   ]
  },
  {
   "cell_type": "markdown",
   "metadata": {},
   "source": [
    "### get individual record"
   ]
  },
  {
   "cell_type": "code",
   "execution_count": 25,
   "metadata": {},
   "outputs": [],
   "source": [
    "def getRecord(identifier,output_dir=\"wigos_records\",metadata_prefix = \"WIGOS-1.0RC6\",endpoint=\"https://whos.geodab.eu/gs-service/services/essi/token/my_token/view/whos-plata/oaipmh\"):\n",
    "    if not os.path.exists(output_dir):\n",
    "        os.mkdir(output_dir)\n",
    "    record_file = \"%s/%s.xml\" % (output_dir,identifier)\n",
    "    response = requests.get(endpoint,params={\"verb\":\"GetRecord\",\"metadataPrefix\":metadata_prefix,\"identifier\":identifier})\n",
    "    f = open(record_file,\"w\")\n",
    "    f.write(response.text)\n",
    "    f.close()\n",
    "    tree = etree.parse(record_file)\n",
    "    root = tree.getroot()\n",
    "    el = root.find(\"{http://www.openarchives.org/OAI/2.0/}GetRecord/{http://www.openarchives.org/OAI/2.0/}record/{http://www.openarchives.org/OAI/2.0/}metadata/{http://def.wmo.int/wmdr/2017}WIGOSMetadataRecord\")\n",
    "    el.attrib[\"{http://www.w3.org/2001/XMLSchema-instance}schemaLocation\"] = \"http://def.wmo.int/wmdr/2017 http://schemas.wmo.int/wmdr/1.0RC9/wmdr.xsd\"\n",
    "    et = etree.ElementTree(el)\n",
    "    filename = \"%s/%s.xml\" % (\"wigos_records/\", identifier)\n",
    "    et.write(filename, pretty_print=True)\n",
    "    return el"
   ]
  },
  {
   "cell_type": "code",
   "execution_count": 26,
   "metadata": {},
   "outputs": [],
   "source": [
    "identifier = \"fcf413b2-703a-4950-b96f-76f310a1f7b0\"\n",
    "record = getRecord(identifier)"
   ]
  },
  {
   "cell_type": "code",
   "execution_count": 27,
   "metadata": {},
   "outputs": [],
   "source": [
    "records= []\n",
    "for identifier in identifiers:\n",
    "    el = getRecord(identifier[\"identifier\"])\n",
    "    records.append({\n",
    "        \"identifier\": identifier,\n",
    "        \"metadata\": el\n",
    "    })"
   ]
  }
 ],
 "metadata": {
  "kernelspec": {
   "display_name": "Python 3.8.10 ('myenv': venv)",
   "language": "python",
   "name": "python3"
  },
  "language_info": {
   "codemirror_mode": {
    "name": "ipython",
    "version": 3
   },
   "file_extension": ".py",
   "mimetype": "text/x-python",
   "name": "python",
   "nbconvert_exporter": "python",
   "pygments_lexer": "ipython3",
   "version": "3.8.10"
  },
  "orig_nbformat": 4,
  "vscode": {
   "interpreter": {
    "hash": "d07805251c6f2fbe267d1b8d4982e12e9c45e434e348c6a37423e27496cf7d92"
   }
  }
 },
 "nbformat": 4,
 "nbformat_minor": 2
}
